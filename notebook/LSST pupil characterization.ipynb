{
 "cells": [
  {
   "cell_type": "code",
   "execution_count": null,
   "metadata": {
    "ExecuteTime": {
     "end_time": "2019-03-23T17:32:11.435988Z",
     "start_time": "2019-03-23T17:32:11.139551Z"
    }
   },
   "outputs": [],
   "source": [
    "import batoid\n",
    "import os\n",
    "import yaml\n",
    "import numpy as np\n",
    "import matplotlib.pyplot as plt\n",
    "%matplotlib inline"
   ]
  },
  {
   "cell_type": "code",
   "execution_count": null,
   "metadata": {
    "ExecuteTime": {
     "end_time": "2019-03-23T17:32:11.614551Z",
     "start_time": "2019-03-23T17:32:11.520982Z"
    }
   },
   "outputs": [],
   "source": [
    "HSC_fn = os.path.join(batoid.datadir, \"LSST\", \"LSST_r.yaml\")\n",
    "config = yaml.safe_load(open(HSC_fn))\n",
    "telescope = batoid.parse.parse_optic(config['opticalSystem'])"
   ]
  },
  {
   "cell_type": "code",
   "execution_count": null,
   "metadata": {
    "ExecuteTime": {
     "end_time": "2019-03-23T17:32:11.746319Z",
     "start_time": "2019-03-23T17:32:11.728086Z"
    }
   },
   "outputs": [],
   "source": [
    "def pupil(thx, thy, nside=512):\n",
    "    rays = batoid.RayVector.asPolar(\n",
    "        optic = telescope,\n",
    "        wavelength=620e-9,\n",
    "        theta_x=thx, theta_y=thy,\n",
    "        projection='gnomonic',\n",
    "        nrad=300, naz=1800\n",
    "    )\n",
    "    rays2 = telescope.stopSurface.interact(rays.copy())\n",
    "    telescope.trace(rays)\n",
    "    w = ~rays.vignetted\n",
    "    return rays2.x[w], rays2.y[w]"
   ]
  },
  {
   "cell_type": "code",
   "execution_count": null,
   "metadata": {
    "ExecuteTime": {
     "end_time": "2019-03-23T17:32:11.925188Z",
     "start_time": "2019-03-23T17:32:11.907374Z"
    }
   },
   "outputs": [],
   "source": [
    "def drawCircle(ax, cx, cy, r, **kwargs):\n",
    "    t = np.linspace(0, 2*np.pi, 1000)\n",
    "    x = r*np.cos(t)+cx\n",
    "    y = r*np.sin(t)+cy\n",
    "    ax.plot(x, y, **kwargs)"
   ]
  },
  {
   "cell_type": "code",
   "execution_count": null,
   "metadata": {
    "ExecuteTime": {
     "end_time": "2019-03-23T17:32:12.145744Z",
     "start_time": "2019-03-23T17:32:12.126651Z"
    }
   },
   "outputs": [],
   "source": [
    "def drawRay(ax, cx, cy, width, theta, **kwargs):\n",
    "    R = np.array([[np.cos(theta), -np.sin(theta)], [np.sin(theta), np.cos(theta)]])\n",
    "    \n",
    "    dx = np.linspace(0, 4.1, 1000)\n",
    "    dy = np.ones_like(dx)*width/2\n",
    "\n",
    "    bx = np.copy(dx)\n",
    "    by = -dy\n",
    "    \n",
    "    dx, dy = R.dot(np.vstack([dx, dy]))\n",
    "    bx, by = R.dot(np.vstack([bx, by]))\n",
    "    \n",
    "    dx += cx\n",
    "    dy += cy\n",
    "    bx += cx\n",
    "    by += cy\n",
    "    \n",
    "    ax.plot(dx, dy, **kwargs)\n",
    "    ax.plot(bx, by, **kwargs)"
   ]
  },
  {
   "cell_type": "code",
   "execution_count": null,
   "metadata": {
    "ExecuteTime": {
     "end_time": "2019-03-23T17:32:12.370369Z",
     "start_time": "2019-03-23T17:32:12.352752Z"
    }
   },
   "outputs": [],
   "source": [
    "def drawRectangle(ax, cx, cy, width, height, **kwargs):\n",
    "    x = width/2*np.array([-1,-1,1,1,-1])\n",
    "    y = height/2*np.array([-1,1,1,-1,-1])\n",
    "    x += cx\n",
    "    y += cy\n",
    "    ax.plot(x, y, **kwargs)"
   ]
  },
  {
   "cell_type": "code",
   "execution_count": null,
   "metadata": {
    "ExecuteTime": {
     "end_time": "2019-03-23T17:32:12.790991Z",
     "start_time": "2019-03-23T17:32:12.772321Z"
    }
   },
   "outputs": [],
   "source": [
    "from IPython.core.display import display, HTML\n",
    "display(HTML(\"<style>.container { width:100% !important; }</style>\"))"
   ]
  },
  {
   "cell_type": "code",
   "execution_count": null,
   "metadata": {
    "ExecuteTime": {
     "end_time": "2019-03-23T18:03:26.547943Z",
     "start_time": "2019-03-23T18:03:26.521999Z"
    }
   },
   "outputs": [],
   "source": [
    "def modelPlot(thx, thy):\n",
    "    fig, ax = plt.subplots(1, 1, figsize=(30, 30))\n",
    "    ax.scatter(*pupil(thx,thy), s=0.1, c='k')\n",
    "    ax.set_aspect('equal')\n",
    "    # Primary mirror\n",
    "    drawCircle(ax, 0, 0, 4.18, c='r')\n",
    "    drawCircle(ax, 0, 0, 2.55, c='r')\n",
    "    \n",
    "    # Interior vignetting\n",
    "    drawCircle(ax, -17*thx, -17*thy, 2.35, c='r')\n",
    "    \n",
    "    # First exterior vignetting\n",
    "    drawCircle(ax, -33*thx, -33*thy, 4.9, c='r')\n",
    "\n",
    "    # Second exterior vignetting    \n",
    "    thr = np.hypot(thx, thy)\n",
    "    if thr > np.deg2rad(1.5):\n",
    "        thph = np.arctan2(thy, thx)\n",
    "        cr = -40.68 + 2365*thr - 49274*thr**2\n",
    "        drawCircle(ax, cr*np.cos(thph), cr*np.sin(thph), 18.0, c='g')\n",
    "\n",
    "    ax.set_xlim(-5,5)\n",
    "    ax.set_ylim(-5,5)\n",
    "    ax.axvline(c='k')\n",
    "    ax.axhline(c='k')\n",
    "    fig.show()"
   ]
  },
  {
   "cell_type": "code",
   "execution_count": null,
   "metadata": {},
   "outputs": [],
   "source": [
    "modelPlot(np.deg2rad(1.76), np.deg2rad(0.5))"
   ]
  },
  {
   "cell_type": "code",
   "execution_count": null,
   "metadata": {},
   "outputs": [],
   "source": [
    "\n",
    "\n",
    "\n",
    "\n",
    "\n",
    "\n",
    "\n",
    "\n",
    "\n",
    "\n",
    "\n",
    "\n",
    "\n",
    "\n",
    "\n",
    "\n",
    "\n",
    "\n",
    "\n",
    "\n",
    "\n",
    "\n",
    "\n",
    "\n",
    "\n",
    "\n",
    "\n",
    "\n",
    "\n",
    "\n",
    "\n",
    "\n",
    "\n"
   ]
  },
  {
   "cell_type": "code",
   "execution_count": null,
   "metadata": {},
   "outputs": [],
   "source": []
  }
 ],
 "metadata": {
  "kernelspec": {
   "display_name": "Python 3",
   "language": "python",
   "name": "python3"
  },
  "language_info": {
   "codemirror_mode": {
    "name": "ipython",
    "version": 3
   },
   "file_extension": ".py",
   "mimetype": "text/x-python",
   "name": "python",
   "nbconvert_exporter": "python",
   "pygments_lexer": "ipython3",
   "version": "3.7.6"
  }
 },
 "nbformat": 4,
 "nbformat_minor": 4
}
