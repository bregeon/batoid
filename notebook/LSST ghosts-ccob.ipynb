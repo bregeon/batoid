{
 "cells": [
  {
   "cell_type": "code",
   "execution_count": null,
   "metadata": {},
   "outputs": [],
   "source": [
    "%load_ext autoreload\n",
    "%autoreload 2"
   ]
  },
  {
   "cell_type": "code",
   "execution_count": null,
   "metadata": {},
   "outputs": [],
   "source": [
    "import os\n",
    "import batoid\n",
    "from batoid.utils import normalized\n",
    "import matplotlib.pyplot as plt\n",
    "import ipyvolume as ipv\n",
    "import numpy as np"
   ]
  },
  {
   "cell_type": "code",
   "execution_count": null,
   "metadata": {},
   "outputs": [],
   "source": [
    "batoid.datadir = '/home/bregeon/LSST/CCOB/batoid_ghosts/batoid/data/LSST/'\n",
    "telescope = batoid.Optic.fromYaml(os.path.join(batoid.datadir, \"LSST_CCOB_r.yaml\"))"
   ]
  },
  {
   "cell_type": "code",
   "execution_count": null,
   "metadata": {},
   "outputs": [],
   "source": [
    "# Make refractive interfaces partially reflective\n",
    "for surface in telescope.itemDict.values():\n",
    "    if isinstance(surface, batoid.RefractiveInterface):\n",
    "        surface.forwardCoating = batoid.SimpleCoating(0.02, 0.98)\n",
    "        surface.reverseCoating = batoid.SimpleCoating(0.02, 0.98)\n",
    "    if isinstance(surface, batoid.Detector):\n",
    "        surface.forwardCoating = batoid.SimpleCoating(0.02, 0.98)"
   ]
  },
  {
   "cell_type": "code",
   "execution_count": null,
   "metadata": {},
   "outputs": [],
   "source": [
    "fig1 = plt.figure(figsize=(12, 11))\n",
    "ax1 = fig1.add_subplot(111)\n",
    "telescope.draw2d(ax1, c='k')\n",
    "\n",
    "c = '#ff7f00'\n",
    "rays = []\n",
    "\n",
    "n = 1000\n",
    "r = np.random.uniform(low=0, high=0.00005, size=n)  # radius\n",
    "theta = np.random.uniform(low=0, high=2*np.pi, size=n)  # angle\n",
    "\n",
    "source_x = np.sqrt(r) * np.cos(theta) + 0.1\n",
    "source_y = np.sqrt(r) * np.sin(theta) + 0.1\n",
    "\n",
    "for px, py in zip(source_x, source_y):\n",
    "    p0 = np.array([px, py, 0])\n",
    "    v = normalized(np.array([0.03, 0., 1]))/1.000277\n",
    "    ray = batoid.Ray(p0, v, t=0, wavelength=500e-9)\n",
    "    p0 = ray.positionAtTime(0)\n",
    "    rays.append(batoid.Ray(p0, v, t=0, wavelength=500e-9))\n",
    "\n",
    "src_vector = batoid.RayVector(rays)\n",
    "rForward, rReverse = telescope.traceSplit(batoid.RayVector(rays), minFlux=1e-4)\n",
    "traceFull = telescope.traceFull(batoid.RayVector(rays))\n",
    "batoid.drawTrace2d(ax1, traceFull, c=c)\n"
   ]
  },
  {
   "cell_type": "code",
   "execution_count": null,
   "metadata": {},
   "outputs": [],
   "source": [
    "for i, rr in enumerate(rForward):\n",
    "    plt.hexbin(rr.x, rr.y, extent=[-0.35, 0.35, -0.35, 0.35], gridsize=150)\n",
    "    # plot approximate focal plane radius\n",
    "    th = np.linspace(0, 2*np.pi, 1000)\n",
    "    plt.plot(0.32*np.cos(th), 0.32*np.sin(th), c='r')\n",
    "    # plot direct path location on focal plane\n",
    "    # direct path will be rForward with fewest number of things in \"path\"\n",
    "    w = np.argmin([len(rrr.path) for rrr in rForward])\n",
    "    plt.scatter(np.mean(rForward[w].x), np.mean(rForward[w].y), marker='+', color='m')\n",
    "    plt.gca().set_aspect(\"equal\")\n",
    "    plt.title(f\"ghost {i}\")\n",
    "    plt.show()"
   ]
  },
  {
   "cell_type": "code",
   "execution_count": null,
   "metadata": {},
   "outputs": [],
   "source": [
    "all_x = rForward[0].x.tolist()\n",
    "all_y = rForward[0].y.tolist()\n",
    "for rr in rForward[1:]:\n",
    "    all_x = all_x + rr.x.tolist()\n",
    "    all_y = all_y + rr.y.tolist()\n",
    "\n",
    "plt.hexbin(all_x, all_y, extent=[-0.35, 0.35, -0.35, 0.35], gridsize=150)\n",
    "# plot approximate focal plane radius\n",
    "th = np.linspace(0, 2*np.pi, 1000)\n",
    "plt.plot(0.32*np.cos(th), 0.32*np.sin(th), c='r')\n",
    "# plot direct path location on focal plane\n",
    "# direct path will be rForward with fewest number of things in \"path\"\n",
    "w = np.argmin([len(rrr.path) for rrr in rForward])\n",
    "plt.scatter(np.mean(rForward[w].x), np.mean(rForward[w].y), marker='+', color='m')\n",
    "plt.gca().set_aspect(\"equal\")\n",
    "plt.title(f\"ghosts\")\n",
    "plt.rcParams[\"figure.figsize\"] = [9, 9]\n",
    "plt.show()"
   ]
  },
  {
   "cell_type": "code",
   "execution_count": null,
   "metadata": {},
   "outputs": [],
   "source": [
    "# Pick a few ghosts and look in more detail\n",
    "ghost = rForward[15]\n",
    "for item in ghost.path:\n",
    "    print(item)\n",
    "plt.hexbin(ghost.x, ghost.y, gridsize=100)\n",
    "plt.gca().set_aspect('equal')\n",
    "plt.show()"
   ]
  },
  {
   "cell_type": "code",
   "execution_count": null,
   "metadata": {},
   "outputs": [],
   "source": [
    "ghost = rForward[25]\n",
    "for item in ghost.path:\n",
    "    print(item)\n",
    "plt.hexbin(ghost.x, ghost.y, gridsize=100)\n",
    "plt.gca().set_aspect('equal')\n",
    "plt.show()"
   ]
  },
  {
   "cell_type": "code",
   "execution_count": null,
   "metadata": {},
   "outputs": [],
   "source": [
    "ghost = rForward[26]\n",
    "for item in ghost.path:\n",
    "    print(item)\n",
    "plt.hexbin(ghost.x, ghost.y, gridsize=100)\n",
    "plt.gca().set_aspect('equal')\n",
    "plt.show()"
   ]
  },
  {
   "cell_type": "code",
   "execution_count": null,
   "metadata": {},
   "outputs": [],
   "source": [
    "ghost = rForward[15]\n",
    "\n",
    "# polar rays make a bit of a confusing plot\n",
    "# rays = batoid.RayVector.asPolar(\n",
    "#     telescope, wavelength=620e-9,\n",
    "#     theta_x=0.0, theta_y=np.deg2rad(1.5),\n",
    "#     nrad=10, naz=30\n",
    "# )\n",
    "\n",
    "\n",
    "\n",
    "tf = telescope.traceFull(src_vector, _path=ghost.path)\n",
    "\n",
    "ipv.figure(width=700, height=500)\n",
    "telescope.draw3d(ipv, color='black')\n",
    "batoid.drawTrace3d(ipv, tf, c='r')\n",
    "ipv.xlim(-1, 1)\n",
    "ipv.ylim(-1, 1)\n",
    "ipv.zlim(3, 5)\n",
    "ipv.show()"
   ]
  },
  {
   "cell_type": "code",
   "execution_count": null,
   "metadata": {},
   "outputs": [],
   "source": []
  }
 ],
 "metadata": {
  "kernelspec": {
   "display_name": "Python 3",
   "language": "python",
   "name": "python3"
  },
  "language_info": {
   "codemirror_mode": {
    "name": "ipython",
    "version": 3
   },
   "file_extension": ".py",
   "mimetype": "text/x-python",
   "name": "python",
   "nbconvert_exporter": "python",
   "pygments_lexer": "ipython3",
   "version": "3.7.6"
  }
 },
 "nbformat": 4,
 "nbformat_minor": 4
}
